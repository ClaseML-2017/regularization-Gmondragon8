{
 "cells": [
  {
   "cell_type": "markdown",
   "metadata": {},
   "source": [
    "# Machine Learning\n",
    "\n",
    "## Regularización\n",
    "Tarea 5 : Gustavo Augusto Mondragón Sánchez : 136894\n",
    "\n",
    "### Introducción:\n",
    "#### Regularización\n",
    "En modelos estadísticos, la regularización se refiere al proceso de introducir información adicional para solucionar un problema mal definido o para impedir el sobreentrenamiento. Es decir, ayuda a evitar que nuestro modelo se aprenda de memoria los datos.\n",
    "\n",
    "Pero ¿cómo surge un problema de sobreentrenamiento? intentemos con un ejemplo:\n",
    "\n",
    "Cuando uno trata de modelar un problema como, por ejemplo, predecir el número de glóbulos rojos en la sangre, lo primero que intentará será usar un modelo de regresión lineal, con el peso como variable independiente y el número de glóbulos rojos como la dependiente. Lo más probable es que el modelo falle ya que es demasiado simple.\n",
    "Puedes oensar entonces, \"tengo otras variables que pueden ayudar como la edad, enfermedades, tipo de sangre, estatura\".\n",
    "Con esta adición de variables e información el modelo se volverá más complejo. En el modelo mides la exactitud con respecto a una métrica $L(X,y)$ donde $X$ es la matriz por tupla de información y $Y$ es el vector de observaciones (en nuestro caso, el número de glóbulos rojos).\n",
    "Parece que el modelo es bueno... pero no tanto... Así que decides agregar más información como domicilio, nacionalidad, escolaridad, comida favorita, hora a la que despierta, nombre de sus padres, etc.\n",
    "El modelo ahora se comporta extraordinariamente bien... pero probablemente está sobreentrenado. Lo más seguro es que tenga poco poder de predicción para información nueva y poca capacidad de generalización. Se aprendió toda la información, incluso el ruido de fondo.\n",
    "\n",
    "Una de las formas de atacar este problema es con las técnicas de regularización.\n",
    "\n",
    "Puedes penalizar la métrica de ajuste agregando un múltiplo de $L_1(LASSO)$ O una norma de $L_2(Ridge)$ de los pesos del vector w (parámetros de la regresión). Se consigue la siguiente ecuación:\n",
    "$$L(X,y) + λN(w) ~~~~~ (N es L1, L2 o cualquier otra norma indistintamente)$$ \n",
    "\n",
    "Esto te permitirá evitar el sobreenetrenamiento. \n",
    "Para la siguiente etapa de encontrar el $λ$ adecuado se puede hacer cross-validation al variar $λ$ con tu set de validación y buscar el que minimice la métrica asignada.\n",
    "\n",
    "\n",
    "\n",
    "\n",
    "\n",
    "[Wikipedia, Ridge](https://en.wikipedia.org/wiki/Tikhonov_regularization)\n",
    "[Wikipedia, Regularización](https://en.wikipedia.org/wiki/Regularization_(mathematics))\n",
    "[Quora](https://www.quora.com/What-is-regularization-in-machine-learning)\n",
    "\n",
    "### Objetivos:\n",
    "* Implementar el algoritmo iterativo incremental regularizado para calcular una regresión lineal.\n",
    "* Escalar los datos usando StandardScaler\n",
    "* Comparar el error y los pesos resultantes para una lambda=0 y una lambda=0.001\n",
    "* Programar el minibatch para regresión lineal iterativa."
   ]
  },
  {
   "cell_type": "code",
   "execution_count": 2,
   "metadata": {
    "collapsed": true
   },
   "outputs": [],
   "source": [
    "#Librerías necesarias:\n",
    "import matplotlib.pyplot as plt\n",
    "import numpy as np\n",
    "import pandas as pd\n",
    "from sklearn import datasets, linear_model, preprocessing\n",
    "from sklearn.model_selection import train_test_split\n",
    "from sklearn.metrics import mean_squared_error, r2_score"
   ]
  },
  {
   "cell_type": "markdown",
   "metadata": {},
   "source": [
    "### Estructura de los datos: \n",
    "\n",
    "* Una variable dependiente continua Y\n",
    "* 36 variables independientes continuas $X_i, ~~~ i=1,...,36$"
   ]
  },
  {
   "cell_type": "code",
   "execution_count": 168,
   "metadata": {},
   "outputs": [
    {
     "name": "stdout",
     "output_type": "stream",
     "text": [
      "                X1             X2           X3           X4           X5  \\\n",
      "count  1029.000000    1029.000000  1029.000000  1029.000000  1029.000000   \n",
      "mean    -12.492680  327718.372035     2.565422    -0.018122     1.235180   \n",
      "std     572.608894  298395.344783     0.424105     0.715733    58.709228   \n",
      "min    -992.795572       1.098476     0.020395    -0.999991  -100.000000   \n",
      "25%    -499.000060   59791.243170     2.388319    -0.760277   -51.000000   \n",
      "50%     -27.174576  241226.533900     2.691213    -0.029038     3.000000   \n",
      "75%     477.216100  547320.664300     2.869121     0.714801    52.000000   \n",
      "max     998.297367  996597.632200     2.999260     0.999992   100.000000   \n",
      "\n",
      "                X6           X7           X8           X9          X10  \\\n",
      "count  1029.000000   1029.00000  1029.000000  1029.000000  1029.000000   \n",
      "mean   -153.782162 -23648.95337    -2.565422     0.018122    -4.108330   \n",
      "std       0.000000      0.00000     0.424105     0.715733   584.648570   \n",
      "min    -153.782162 -23648.95337    -2.999260    -0.999992  -996.652132   \n",
      "25%    -153.782162 -23648.95337    -2.869121    -0.714801  -511.919891   \n",
      "50%    -153.782162 -23648.95337    -2.691213     0.029038    -6.507760   \n",
      "75%    -153.782162 -23648.95337    -2.388319     0.760277   516.046297   \n",
      "max    -153.782162 -23648.95337    -0.020395     0.999991  1000.933758   \n",
      "\n",
      "           ...               X30          X31          X32          X33  \\\n",
      "count      ...       1029.000000  1029.000000  1029.000000  1029.000000   \n",
      "mean       ...          5.612245   100.650146   -29.719145  -136.164237   \n",
      "std        ...        239.009325  2862.331915  4489.803784  2641.944700   \n",
      "min        ...       -410.000000 -4857.000000 -7715.000000 -4596.000000   \n",
      "25%        ...       -189.000000 -2457.000000 -4063.000000 -2438.000000   \n",
      "50%        ...          7.000000   123.000000   129.000000  -196.000000   \n",
      "75%        ...        214.000000  2654.000000  3890.000000  2138.000000   \n",
      "max        ...        410.000000  4862.000000  7752.000000  4577.000000   \n",
      "\n",
      "               X34          X35          X36          X37          X38  \\\n",
      "count  1029.000000  1029.000000  1029.000000  1029.000000  1029.000000   \n",
      "mean   -101.649174   -34.310010    -7.965986   -37.117590     2.499514   \n",
      "std    5153.481524  2569.220416  2933.878621  1504.903744   102.994972   \n",
      "min   -8898.000000 -4383.000000 -5133.000000 -2565.000000  -175.000000   \n",
      "25%   -4780.000000 -2311.000000 -2520.000000 -1411.000000   -85.000000   \n",
      "50%     -13.000000    20.000000   -35.000000    78.000000     6.000000   \n",
      "75%    4195.000000  2165.000000  2521.000000  1227.000000    94.000000   \n",
      "max    8866.000000  4384.000000  5123.000000  2568.000000   175.000000   \n",
      "\n",
      "                  y  \n",
      "count  1.029000e+03  \n",
      "mean  -8.035132e+18  \n",
      "std    2.593868e+20  \n",
      "min   -9.506460e+20  \n",
      "25%   -7.703790e+18  \n",
      "50%   -1.094503e+10  \n",
      "75%    5.636450e+18  \n",
      "max    9.881420e+20  \n",
      "\n",
      "[8 rows x 39 columns]\n"
     ]
    }
   ],
   "source": [
    "#Cargar los datos desde repositorio online:\n",
    "dataNl = pd.read_csv('https://raw.githubusercontent.com/ClaseML-2017/MaterialyTareas/master/datos/regLinPoli2.csv',delimiter=',') # Leer el archivo\n",
    "#Descripción previa de los datos:\n",
    "print dataNl.describe()"
   ]
  },
  {
   "cell_type": "markdown",
   "metadata": {},
   "source": [
    "### División del conjunto de datos en entrenamiento y validación."
   ]
  },
  {
   "cell_type": "code",
   "execution_count": 169,
   "metadata": {
    "collapsed": true
   },
   "outputs": [],
   "source": [
    "np.random.seed(12345)     #Para revisiones de los resultados futuras\n",
    "\n",
    "#División de los datos \n",
    "trainx, testx, trainy, testy = train_test_split(dataNl[dataNl.columns[0:-1]],dataNl[dataNl.columns[-1]], train_size=0.75)\n",
    "\n",
    "#Datos estandarizados\n",
    "scaler = preprocessing.StandardScaler().fit(trainx)\n",
    "trainxE=scaler.transform(trainx)\n",
    "testxE=scaler.transform(testx)"
   ]
  },
  {
   "cell_type": "markdown",
   "metadata": {},
   "source": [
    "### Creación del modelo LMS REGULARIZADO:"
   ]
  },
  {
   "cell_type": "code",
   "execution_count": 170,
   "metadata": {
    "collapsed": true
   },
   "outputs": [],
   "source": [
    "def LMS(x,y,eta,lam):\n",
    "    x = np.insert(np.array(x), 0, 1, axis=1)\n",
    "    y = np.array(y)\n",
    "    nr = x.shape[0]\n",
    "    nc = x.shape[1]\n",
    "    w = np.random.random((1,nc))\n",
    "    for i in range(0,nr):\n",
    "        e = (y[i] - np.dot(x[i],w.T))\n",
    "        w = w + eta*e*x[i]-lam*w\n",
    "    print 'Coeficientes: \\n',w.T\n",
    "    return w\n",
    "\n",
    "\n",
    "def testLMS(x,y,w,indiceG=1):\n",
    "    x = np.insert(np.array(x), 0, 1, axis=1)\n",
    "    nr = x.shape[0]\n",
    "    y = np.array(y)\n",
    "    pred = np.dot(x,w.T)\n",
    "    plt.scatter(x[:,indiceG],y, color='black')\n",
    "    plt.scatter(x[:,indiceG],pred)\n",
    "    ecm = (1.0/len(y))*np.abs(np.sum(np.array(y)-pred))\n",
    "    print '\\n Error medio: %f' % ecm\n",
    "    plt.title('Regresion lineal usando parametros de W')\n",
    "    print '\\n Ordenada: %f, Pendiente: %f' % (w[0,0], w[0,1])\n",
    "    if indiceG>0: \n",
    "        plt.show()\n",
    "    return ecm\n"
   ]
  },
  {
   "cell_type": "markdown",
   "metadata": {},
   "source": [
    "### Validación del modelo eta = 0.01, lambda = 0"
   ]
  },
  {
   "cell_type": "code",
   "execution_count": 171,
   "metadata": {
    "scrolled": true
   },
   "outputs": [
    {
     "name": "stdout",
     "output_type": "stream",
     "text": [
      "Coeficientes: \n",
      "[[  2.53863217e+18]\n",
      " [  1.89286605e+20]\n",
      " [ -1.35096802e+19]\n",
      " [  9.42058099e+18]\n",
      " [  7.02147975e+18]\n",
      " [  2.26497643e+18]\n",
      " [  2.53863217e+18]\n",
      " [ -2.53863217e+18]\n",
      " [ -9.42058099e+18]\n",
      " [ -7.02147975e+18]\n",
      " [  1.51830503e+18]\n",
      " [  8.40560069e+18]\n",
      " [  2.18317860e+19]\n",
      " [ -2.07502344e+19]\n",
      " [  8.99352047e+18]\n",
      " [ -3.00177574e+19]\n",
      " [ -1.67151787e+19]\n",
      " [  8.20619296e+18]\n",
      " [  2.14701700e+18]\n",
      " [ -7.61341308e+18]\n",
      " [  1.10261376e+19]\n",
      " [  1.36835838e+18]\n",
      " [ -1.77949682e+19]\n",
      " [  2.70505983e+18]\n",
      " [ -1.52855373e+19]\n",
      " [ -1.00464657e+19]\n",
      " [ -1.54399625e+19]\n",
      " [  1.31947921e+19]\n",
      " [  3.93849292e+18]\n",
      " [ -9.02649139e+18]\n",
      " [ -1.44332205e+18]\n",
      " [  2.78706894e+18]\n",
      " [  7.48530545e+18]\n",
      " [ -9.23705474e+18]\n",
      " [  3.67903232e+18]\n",
      " [ -2.47477950e+19]\n",
      " [  1.92957927e+19]\n",
      " [ -2.62234016e+18]\n",
      " [  4.05129915e+18]]\n",
      "\n",
      " Error medio: 3971414912492378259456.000000\n",
      "\n",
      " Ordenada: 2538632171882640384.000000, Pendiente: 189286605411517497344.000000\n"
     ]
    },
    {
     "data": {
      "text/plain": [
       "3.9714149124923783e+21"
      ]
     },
     "execution_count": 171,
     "metadata": {},
     "output_type": "execute_result"
    }
   ],
   "source": [
    "w = LMS(trainxE,trainy,.01,0)\n",
    "testLMS(testxE,testy,w,-1)"
   ]
  },
  {
   "cell_type": "markdown",
   "metadata": {},
   "source": [
    "### Validación del modelo eta = 0.01, lambda = 0.01"
   ]
  },
  {
   "cell_type": "code",
   "execution_count": 172,
   "metadata": {},
   "outputs": [
    {
     "name": "stdout",
     "output_type": "stream",
     "text": [
      "Coeficientes: \n",
      "[[  2.43222540e+18]\n",
      " [  1.71920693e+20]\n",
      " [ -4.97954530e+18]\n",
      " [  7.76614506e+18]\n",
      " [  7.14202046e+18]\n",
      " [  1.97491107e+18]\n",
      " [  2.43222540e+18]\n",
      " [ -2.43222540e+18]\n",
      " [ -7.76614506e+18]\n",
      " [ -7.14202046e+18]\n",
      " [  8.31859137e+17]\n",
      " [  9.38300988e+18]\n",
      " [  2.06900111e+19]\n",
      " [ -1.89122913e+19]\n",
      " [  6.19802953e+18]\n",
      " [ -2.81932816e+19]\n",
      " [ -1.71358621e+19]\n",
      " [  5.04474320e+18]\n",
      " [ -5.87905725e+16]\n",
      " [ -5.71482400e+18]\n",
      " [  1.11384924e+19]\n",
      " [  1.79410430e+17]\n",
      " [ -1.67537990e+19]\n",
      " [  2.54035138e+18]\n",
      " [ -1.36336849e+19]\n",
      " [ -7.72976828e+18]\n",
      " [ -1.51201100e+19]\n",
      " [  1.20363185e+19]\n",
      " [  4.69929444e+18]\n",
      " [ -8.19193847e+18]\n",
      " [ -2.90666612e+18]\n",
      " [  5.42248694e+17]\n",
      " [  9.36368288e+18]\n",
      " [ -7.72248900e+18]\n",
      " [  3.75956658e+18]\n",
      " [ -2.36294293e+19]\n",
      " [  1.92586302e+19]\n",
      " [ -2.41274619e+18]\n",
      " [  2.87799926e+18]]\n",
      "\n",
      " Error medio: 3417814908782582956032.000000\n",
      "\n",
      " Ordenada: 2432225404555486720.000000, Pendiente: 171920692668388048896.000000\n"
     ]
    },
    {
     "data": {
      "text/plain": [
       "3.417814908782583e+21"
      ]
     },
     "execution_count": 172,
     "metadata": {},
     "output_type": "execute_result"
    }
   ],
   "source": [
    "w = LMS(trainxE,trainy,.01,0.001)\n",
    "testLMS(testxE,testy,w,-1)"
   ]
  },
  {
   "cell_type": "markdown",
   "metadata": {},
   "source": [
    "## Con lambda más grande los coeficientes de algunas variables independientes se hace cada vez más cercano a cero."
   ]
  }
 ],
 "metadata": {
  "kernelspec": {
   "display_name": "Python 2",
   "language": "python",
   "name": "python2"
  },
  "language_info": {
   "codemirror_mode": {
    "name": "ipython",
    "version": 2
   },
   "file_extension": ".py",
   "mimetype": "text/x-python",
   "name": "python",
   "nbconvert_exporter": "python",
   "pygments_lexer": "ipython2",
   "version": "2.7.12"
  }
 },
 "nbformat": 4,
 "nbformat_minor": 2
}
